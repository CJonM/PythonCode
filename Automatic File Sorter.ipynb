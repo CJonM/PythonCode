{
 "cells": [
  {
   "cell_type": "code",
   "execution_count": null,
   "id": "610b2047",
   "metadata": {},
   "outputs": [],
   "source": [
    "import os\n",
    "import shutil"
   ]
  },
  {
   "cell_type": "code",
   "execution_count": null,
   "id": "5b50b918",
   "metadata": {},
   "outputs": [],
   "source": [
    "PATH = r\"C:\\Users\\jon\\OneDrive\\3DPrinter\""
   ]
  },
  {
   "cell_type": "code",
   "execution_count": null,
   "id": "bcf7be3c",
   "metadata": {},
   "outputs": [],
   "source": [
    "folder_names = ['gcode', 'Raw Data', 'Project Files']\n",
    "\n",
    "for name in folder_names:\n",
    "    if not os.path.exists(os.path.join(PATH, name)):\n",
    "        os.mkdir(os.path.join(PATH, name))"
   ]
  },
  {
   "cell_type": "code",
   "execution_count": null,
   "id": "2428c026",
   "metadata": {},
   "outputs": [],
   "source": [
    "file_names = os.listdir(PATH)\n",
    "for file in file_names:\n",
    "    file_path = os.path.join(PATH, file)\n",
    "    if '.3mf' in file:\n",
    "        shutil.move(file_path, os.path.join(PATH, 'Project Files', file))\n",
    "    elif '.gcode' in file:\n",
    "        shutil.move(file_path, os.path.join(PATH, 'gcode', file))\n",
    "    elif '.stl' in file:\n",
    "        shutil.move(file_path, os.path.join(PATH, 'Raw Data', file))\n",
    "    else:\n",
    "        print(f'{file} does not have a .3mf, .gcode or .stl extension and was not moved')"
   ]
  }
 ],
 "metadata": {
  "kernelspec": {
   "display_name": "Python 3 (ipykernel)",
   "language": "python",
   "name": "python3"
  },
  "language_info": {
   "codemirror_mode": {
    "name": "ipython",
    "version": 3
   },
   "file_extension": ".py",
   "mimetype": "text/x-python",
   "name": "python",
   "nbconvert_exporter": "python",
   "pygments_lexer": "ipython3",
   "version": "3.11.5"
  }
 },
 "nbformat": 4,
 "nbformat_minor": 5
}
