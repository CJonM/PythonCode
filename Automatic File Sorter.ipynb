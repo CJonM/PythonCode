{
 "cells": [
  {
   "cell_type": "code",
   "execution_count": 21,
   "id": "82c580ec",
   "metadata": {},
   "outputs": [],
   "source": [
    "import os\n",
    "import shutil"
   ]
  },
  {
   "cell_type": "code",
   "execution_count": 22,
   "id": "915c88a6",
   "metadata": {},
   "outputs": [],
   "source": [
    "PATH = r\"C:\\Users\\jonca\\OneDrive\\3DPrinter\""
   ]
  },
  {
   "cell_type": "code",
   "execution_count": 23,
   "id": "80356324",
   "metadata": {},
   "outputs": [],
   "source": [
    "folder_names = ['gcode', 'Raw Data', 'Project Files']\n",
    "\n",
    "for name in folder_names:\n",
    "    if not os.path.exists(os.path.join(PATH, name)):\n",
    "        os.mkdir(os.path.join(PATH, name))"
   ]
  },
  {
   "cell_type": "code",
   "execution_count": 24,
   "id": "f67c0889",
   "metadata": {},
   "outputs": [
    {
     "name": "stdout",
     "output_type": "stream",
     "text": [
      "gcode does not have a .3mf,.gcode or .stl extension and was not moved\n",
      "Hollow Knight - Grimm - 3759333.zip does not have a .3mf,.gcode or .stl extension and was not moved\n",
      "Kobra 2-Cura-PLA Suggested parameters .curaprofile does not have a .3mf,.gcode or .stl extension and was not moved\n",
      "Kobra 2-Cura-Suggested Parameters Profiles.rar does not have a .3mf,.gcode or .stl extension and was not moved\n",
      "Project Files does not have a .3mf,.gcode or .stl extension and was not moved\n",
      "Raw Data does not have a .3mf,.gcode or .stl extension and was not moved\n"
     ]
    }
   ],
   "source": [
    "file_names = os.listdir(PATH)\n",
    "for file in file_names:\n",
    "    file_path = os.path.join(PATH, file)\n",
    "    if '.3mf' in file:\n",
    "        shutil.move(file_path, os.path.join(PATH, 'Project Files', file))\n",
    "    elif '.gcode' in file:\n",
    "        shutil.move(file_path, os.path.join(PATH, 'gcode', file))\n",
    "    elif '.stl' in file:\n",
    "        shutil.move(file_path, os.path.join(PATH, 'Raw Data', file))\n",
    "    else:\n",
    "        print(f'{file} does not have a .3mf,.gcode or .stl extension and was not moved')"
   ]
  },
  {
   "cell_type": "code",
   "execution_count": null,
   "id": "9ac807a4",
   "metadata": {},
   "outputs": [],
   "source": []
  },
  {
   "cell_type": "code",
   "execution_count": null,
   "id": "4a2d1467",
   "metadata": {},
   "outputs": [],
   "source": []
  },
  {
   "cell_type": "code",
   "execution_count": null,
   "id": "8c1a5f48",
   "metadata": {},
   "outputs": [],
   "source": []
  }
 ],
 "metadata": {
  "kernelspec": {
   "display_name": "Python 3 (ipykernel)",
   "language": "python",
   "name": "python3"
  },
  "language_info": {
   "codemirror_mode": {
    "name": "ipython",
    "version": 3
   },
   "file_extension": ".py",
   "mimetype": "text/x-python",
   "name": "python",
   "nbconvert_exporter": "python",
   "pygments_lexer": "ipython3",
   "version": "3.11.5"
  }
 },
 "nbformat": 4,
 "nbformat_minor": 5
}
